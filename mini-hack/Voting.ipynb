{
 "cells": [
  {
   "cell_type": "code",
   "execution_count": 71,
   "metadata": {
    "collapsed": false
   },
   "outputs": [
    {
     "name": "stdout",
     "output_type": "stream",
     "text": [
      "Overwriting vote.se\n"
     ]
    }
   ],
   "source": [
    "%%file vote.se\n",
    "\n",
    "data player[3](address, commit, choice, has_revealed)\n",
    "data num_voters\n",
    "data player_map[]\n",
    "data reward\n",
    "data timer_start\n",
    "\n",
    "event Notice(x:str)\n",
    "\n",
    "def init():\n",
    "    #If tied, refund to all players\n",
    "    self.num_voters = 0\n",
    "    \n",
    "def add_voter(voter_commitment):\n",
    "    #prevents a max callstack exception\n",
    "    if self.test_callstack() != 1: return(-1)\n",
    "\n",
    "    if self.num_voters < 3 and msg.value >= 1000:\n",
    "        self.reward = self.reward + msg.value\n",
    "        self.player[self.num_voters].address = msg.sender\n",
    "        self.player[self.num_voters].commit = voter_commitment\n",
    "        self.num_voters = self.num_voters + 1\n",
    "        self.player_map[msg.sender] = self.num_voters\n",
    "        if msg.value - 1000 > 0:\n",
    "            send(0, msg.sender, msg.value-1000)\n",
    "        return(0)\n",
    "    else:    \n",
    "        if msg.value > 0 :\n",
    "            # prevent unnecessary leakage of money\n",
    "            send(0, msg.sender, msg.value)\n",
    "        return(-1)\n",
    "\n",
    "def open(choice, nonce):\n",
    "    pass\n",
    "\n",
    "def count_vote():\n",
    "    log(type=Notice, self.player[0].choice)\n",
    "    log(type=Notice, self.player[1].choice)\n",
    "    log(type=Notice, self.player[2].choice)\n",
    "\n",
    "#returns the balance to ensure funds were lost and won properly\n",
    "def balance_check():\n",
    "    log(self.storage[\"player1\"].balance)\n",
    "    log(self.storage[\"player2\"].balance)\n",
    "    log(self.storage[\"player3\"].balance)\n",
    "\n",
    "def test_callstack():\n",
    "    return(1)"
   ]
  },
  {
   "cell_type": "code",
   "execution_count": 72,
   "metadata": {
    "collapsed": false
   },
   "outputs": [
    {
     "name": "stdout",
     "output_type": "stream",
     "text": [
      "Alice chooses 1 which is: 743751349\n",
      "Bob chooses 0 which is: 4020772184\n",
      "\n",
      "Bob chooses 0 which is: 3215296682\n",
      "\n",
      "Alice Added: 0\n",
      "Bob Added: 0\n",
      "\n",
      "Cindy Added: 0\n",
      "\n",
      "Open for Alice: None\n",
      "Open for Bob: None\n",
      "\n",
      "Open for Cindy: None\n",
      "\n"
     ]
    }
   ],
   "source": [
    "import serpent\n",
    "from ethereum import tester, utils, abi\n",
    "from sha3 import sha3_256\n",
    "import sys\n",
    "import struct\n",
    "import binascii\n",
    "import random\n",
    "\n",
    "s = tester.state()\n",
    "c = s.abi_contract('vote.se')\n",
    "\n",
    "# Use default addresses for Alice and Bob\n",
    "alice = tester.a0\n",
    "alice_key = tester.k0\n",
    "bob = tester.a1\n",
    "bob_key = tester.k1\n",
    "cindy = tester.a2\n",
    "cindy_key = tester.k2\n",
    "\n",
    "tobytearr = lambda n, L: [] if L == 0 else tobytearr(n / 256, L - 1)+[n % 256]\n",
    "zfill = lambda s: (32-len(s))*'\\x00' + s\n",
    "\n",
    "choice1 = random.randint(0,2)\n",
    "nonce1 = random.randint(0,2**32-1)\n",
    "ch1 = ''.join(map(chr, tobytearr(choice1, 32)))\n",
    "no1 = ''.join(map(chr, tobytearr(nonce1, 32)))\n",
    "print(\"Alice chooses {} which is: {}\").format(choice1, nonce1)\n",
    "\n",
    "## Use Alice's address for the commitment\n",
    "s1 = ''.join([zfill(alice), ch1, no1])\n",
    "comm1 = utils.sha3(s1)\n",
    "\n",
    "choice2 = random.randint(0,2)\n",
    "nonce2 = random.randint(0,2**32-1)\n",
    "ch2 = ''.join(map(chr, tobytearr(choice2, 32)))\n",
    "no2 = ''.join(map(chr, tobytearr(nonce2, 32)))\n",
    "print(\"Bob chooses {} which is: {}\\n\").format(choice2, nonce2)\n",
    "\n",
    "## Use Bob's address for the commitment\n",
    "s2 = ''.join([zfill(bob), ch2, no2])\n",
    "comm2 = utils.sha3(s2)\n",
    "\n",
    "choice3 = random.randint(0,2)\n",
    "nonce3 = random.randint(0,2**32-1)\n",
    "ch3 = ''.join(map(chr, tobytearr(choice3, 32)))\n",
    "no3 = ''.join(map(chr, tobytearr(nonce3, 32)))\n",
    "print(\"Bob chooses {} which is: {}\\n\").format(choice3, nonce3)\n",
    "\n",
    "## Use Bob's address for the commitment\n",
    "s3 = ''.join([zfill(cindy), ch3, no3])\n",
    "comm3 = utils.sha3(s3)\n",
    "\n",
    "o = c.add_voter(comm1, value=1000, sender=alice_key)\n",
    "print(\"Alice Added: {}\").format(o)\n",
    "\n",
    "o = c.add_voter(comm2, value=1000, sender=bob_key)\n",
    "print(\"Bob Added: {}\\n\").format(o)\n",
    "\n",
    "o = c.add_voter(comm3, value=1000, sender=cindy_key)\n",
    "print(\"Cindy Added: {}\\n\").format(o)\n",
    "\n",
    "o = c.open(choice1,nonce1, sender=alice_key)\n",
    "print(\"Open for Alice: {}\").format(o)\n",
    "\n",
    "o = c.open(choice2,nonce2, sender=bob_key)\n",
    "print(\"Open for Bob: {}\\n\").format(o)\n",
    "\n",
    "o = c.open(choice3,nonce3, sender=cindy_key)\n",
    "print(\"Open for Cindy: {}\\n\").format(o)\n",
    "\n",
    "s.mine(3)\n",
    "\n",
    "#o = c.balance_check()"
   ]
  },
  {
   "cell_type": "code",
   "execution_count": 73,
   "metadata": {
    "collapsed": false
   },
   "outputs": [
    {
     "ename": "TransactionFailed",
     "evalue": "",
     "output_type": "error",
     "traceback": [
      "\u001b[1;31m---------------------------------------------------------------------------\u001b[0m",
      "\u001b[1;31mTransactionFailed\u001b[0m                         Traceback (most recent call last)",
      "\u001b[1;32m<ipython-input-73-8300adbbd6f9>\u001b[0m in \u001b[0;36m<module>\u001b[1;34m()\u001b[0m\n\u001b[1;32m----> 1\u001b[1;33m \u001b[0mc\u001b[0m\u001b[1;33m.\u001b[0m\u001b[0mcount_vote\u001b[0m\u001b[1;33m(\u001b[0m\u001b[1;33m)\u001b[0m\u001b[1;33m\u001b[0m\u001b[0m\n\u001b[0m",
      "\u001b[1;32m/usr/local/lib/python2.7/dist-packages/ethereum-1.0.4-py2.7.egg/ethereum/tester.pyc\u001b[0m in \u001b[0;36mkall\u001b[1;34m(*args, **kwargs)\u001b[0m\n\u001b[0;32m     98\u001b[0m                                  \u001b[0mkwargs\u001b[0m\u001b[1;33m.\u001b[0m\u001b[0mget\u001b[0m\u001b[1;33m(\u001b[0m\u001b[1;34m'value'\u001b[0m\u001b[1;33m,\u001b[0m \u001b[1;36m0\u001b[0m\u001b[1;33m)\u001b[0m\u001b[1;33m,\u001b[0m\u001b[1;33m\u001b[0m\u001b[0m\n\u001b[0;32m     99\u001b[0m                                  \u001b[0mself\u001b[0m\u001b[1;33m.\u001b[0m\u001b[0m_translator\u001b[0m\u001b[1;33m.\u001b[0m\u001b[0mencode\u001b[0m\u001b[1;33m(\u001b[0m\u001b[0mf\u001b[0m\u001b[1;33m,\u001b[0m \u001b[0margs\u001b[0m\u001b[1;33m)\u001b[0m\u001b[1;33m,\u001b[0m\u001b[1;33m\u001b[0m\u001b[0m\n\u001b[1;32m--> 100\u001b[1;33m                                  **dict_without(kwargs, 'sender', 'value', 'output'))\n\u001b[0m\u001b[0;32m    101\u001b[0m                 \u001b[1;31m# Compute output data\u001b[0m\u001b[1;33m\u001b[0m\u001b[1;33m\u001b[0m\u001b[0m\n\u001b[0;32m    102\u001b[0m                 \u001b[1;32mif\u001b[0m \u001b[0mkwargs\u001b[0m\u001b[1;33m.\u001b[0m\u001b[0mget\u001b[0m\u001b[1;33m(\u001b[0m\u001b[1;34m'output'\u001b[0m\u001b[1;33m,\u001b[0m \u001b[1;34m''\u001b[0m\u001b[1;33m)\u001b[0m \u001b[1;33m==\u001b[0m \u001b[1;34m'raw'\u001b[0m\u001b[1;33m:\u001b[0m\u001b[1;33m\u001b[0m\u001b[0m\n",
      "\u001b[1;32m/usr/local/lib/python2.7/dist-packages/ethereum-1.0.4-py2.7.egg/ethereum/tester.pyc\u001b[0m in \u001b[0;36m_send\u001b[1;34m(self, sender, to, value, evmdata, output, funid, abi, profiling)\u001b[0m\n\u001b[0;32m    199\u001b[0m         \u001b[1;33m(\u001b[0m\u001b[0ms\u001b[0m\u001b[1;33m,\u001b[0m \u001b[0mo\u001b[0m\u001b[1;33m)\u001b[0m \u001b[1;33m=\u001b[0m \u001b[0mpb\u001b[0m\u001b[1;33m.\u001b[0m\u001b[0mapply_transaction\u001b[0m\u001b[1;33m(\u001b[0m\u001b[0mself\u001b[0m\u001b[1;33m.\u001b[0m\u001b[0mblock\u001b[0m\u001b[1;33m,\u001b[0m \u001b[0mtx\u001b[0m\u001b[1;33m)\u001b[0m\u001b[1;33m\u001b[0m\u001b[0m\n\u001b[0;32m    200\u001b[0m         \u001b[1;32mif\u001b[0m \u001b[1;32mnot\u001b[0m \u001b[0ms\u001b[0m\u001b[1;33m:\u001b[0m\u001b[1;33m\u001b[0m\u001b[0m\n\u001b[1;32m--> 201\u001b[1;33m             \u001b[1;32mraise\u001b[0m \u001b[0mTransactionFailed\u001b[0m\u001b[1;33m(\u001b[0m\u001b[1;33m)\u001b[0m\u001b[1;33m\u001b[0m\u001b[0m\n\u001b[0m\u001b[0;32m    202\u001b[0m         \u001b[0mout\u001b[0m \u001b[1;33m=\u001b[0m \u001b[1;33m{\u001b[0m\u001b[1;34m\"output\"\u001b[0m\u001b[1;33m:\u001b[0m \u001b[0mo\u001b[0m\u001b[1;33m}\u001b[0m\u001b[1;33m\u001b[0m\u001b[0m\n\u001b[0;32m    203\u001b[0m         \u001b[1;32mif\u001b[0m \u001b[0mprofiling\u001b[0m \u001b[1;33m>\u001b[0m \u001b[1;36m0\u001b[0m\u001b[1;33m:\u001b[0m\u001b[1;33m\u001b[0m\u001b[0m\n",
      "\u001b[1;31mTransactionFailed\u001b[0m: "
     ]
    }
   ],
   "source": [
    "c.count_vote()"
   ]
  },
  {
   "cell_type": "code",
   "execution_count": 64,
   "metadata": {
    "collapsed": false
   },
   "outputs": [
    {
     "ename": "TypeError",
     "evalue": "trace() takes at least 4 arguments (1 given)",
     "output_type": "error",
     "traceback": [
      "\u001b[1;31m---------------------------------------------------------------------------\u001b[0m",
      "\u001b[1;31mTypeError\u001b[0m                                 Traceback (most recent call last)",
      "\u001b[1;32m<ipython-input-64-fe6a4b86c30d>\u001b[0m in \u001b[0;36m<module>\u001b[1;34m()\u001b[0m\n\u001b[1;32m----> 1\u001b[1;33m \u001b[0ms\u001b[0m\u001b[1;33m.\u001b[0m\u001b[0mtrace\u001b[0m\u001b[1;33m(\u001b[0m\u001b[1;33m)\u001b[0m\u001b[1;33m\u001b[0m\u001b[0m\n\u001b[0m",
      "\u001b[1;31mTypeError\u001b[0m: trace() takes at least 4 arguments (1 given)"
     ]
    }
   ],
   "source": []
  },
  {
   "cell_type": "code",
   "execution_count": 45,
   "metadata": {
    "collapsed": false
   },
   "outputs": [
    {
     "data": {
      "text/plain": [
       "[<Block(#0 497865db)>,\n",
       " <Block(#1 4f6c8cf7)>,\n",
       " <Block(#2 81dd5bad)>,\n",
       " <Block(#3 d7ba6809)>]"
      ]
     },
     "execution_count": 45,
     "metadata": {},
     "output_type": "execute_result"
    }
   ],
   "source": [
    "#s.blocks[0].__dict__\n",
    "s.blocks"
   ]
  },
  {
   "cell_type": "code",
   "execution_count": 48,
   "metadata": {
    "collapsed": false
   },
   "outputs": [
    {
     "data": {
      "text/plain": [
       "['ether_delta',\n",
       " 'logs',\n",
       " 'uncles',\n",
       " 'transactions',\n",
       " 'log_listeners',\n",
       " 'journal',\n",
       " 'db',\n",
       " 'transaction_count',\n",
       " '_get_transactions_cache',\n",
       " 'header',\n",
       " 'state',\n",
       " 'ancestor_hashes',\n",
       " 'env',\n",
       " 'suicides',\n",
       " 'refunds',\n",
       " '_cached_rlp',\n",
       " 'config',\n",
       " 'receipts',\n",
       " 'caches']"
      ]
     },
     "execution_count": 48,
     "metadata": {},
     "output_type": "execute_result"
    }
   ],
   "source": [
    "s.blocks[0].__dict__.keys()"
   ]
  },
  {
   "cell_type": "code",
   "execution_count": 54,
   "metadata": {
    "collapsed": false
   },
   "outputs": [
    {
     "data": {
      "text/plain": [
       "['\\x01', '\\x80', '\\x03', '\\x02', '\\x05', '\\x04', '\\x06']"
      ]
     },
     "execution_count": 54,
     "metadata": {},
     "output_type": "execute_result"
    }
   ],
   "source": [
    "list(s.blocks[0].transactions)"
   ]
  },
  {
   "cell_type": "code",
   "execution_count": 57,
   "metadata": {
    "collapsed": false
   },
   "outputs": [
    {
     "data": {
      "text/plain": [
       "[]"
      ]
     },
     "execution_count": 57,
     "metadata": {},
     "output_type": "execute_result"
    }
   ],
   "source": [
    "list(s.blocks[3].transactions)"
   ]
  },
  {
   "cell_type": "code",
   "execution_count": null,
   "metadata": {
    "collapsed": true
   },
   "outputs": [],
   "source": []
  }
 ],
 "metadata": {
  "kernelspec": {
   "display_name": "Python 2",
   "language": "python",
   "name": "python2"
  },
  "language_info": {
   "codemirror_mode": {
    "name": "ipython",
    "version": 2
   },
   "file_extension": ".py",
   "mimetype": "text/x-python",
   "name": "python",
   "nbconvert_exporter": "python",
   "pygments_lexer": "ipython2",
   "version": "2.7.6"
  }
 },
 "nbformat": 4,
 "nbformat_minor": 0
}
