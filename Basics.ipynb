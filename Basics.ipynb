{
 "cells": [
  {
   "cell_type": "code",
   "execution_count": 2,
   "metadata": {
    "collapsed": false
   },
   "outputs": [
    {
     "name": "stdout",
     "output_type": "stream",
     "text": [
      "installing  scpt-private-ethereum-network  Untitled.ipynb  workshop\r\n"
     ]
    }
   ],
   "source": [
    "!ls"
   ]
  },
  {
   "cell_type": "code",
   "execution_count": 5,
   "metadata": {
    "collapsed": false
   },
   "outputs": [
    {
     "name": "stdout",
     "output_type": "stream",
     "text": [
      "from ethereum import tester\r\n",
      "\r\n",
      "# Logging (change to \"trace\" to see more)\r\n",
      "#from ethereum import slogging\r\n",
      "#slogging.set_level('eth.pb.tx', 'warning')\r\n",
      "#slogging.set_level('eth.vm.op', 'warning')\r\n",
      "\r\n",
      "# Serpent code\r\n",
      "contract_code = \"\"\"\r\n",
      "event Notice(x:str)\r\n",
      "\r\n",
      "def test_function(x):\r\n",
      "   log(type=Notice, text(\"Hello World!\"))\r\n",
      "\r\n",
      "   self.storage[0] = x\r\n",
      "   self.storage[0xDEAD] = 0xBEEF\r\n",
      "   self.storage[\"Hello\"] = \"World!\"\r\n",
      "   self.storage[1] = 10 + 1245 + 320   # 1575 = 0x0627\r\n",
      "\r\n",
      "\"\"\"\r\n",
      "\r\n",
      "s = tester.state()\r\n",
      "\r\n",
      "# Create the contract\r\n",
      "full_code = contract_code\r\n",
      "contract = s.abi_contract(full_code)\r\n",
      "\r\n",
      "# Invoke a method (in the local \"mempool\", to go in the next block)\r\n",
      "contract.test_function(\"C0FFEEBABE\".decode('hex'))\r\n",
      "\r\n",
      "# Mine blocks\r\n",
      "s.mine(10)\r\n",
      "\r\n",
      "# Inspect the contract storage\r\n",
      "def simplify_trie(trie):\r\n",
      "    return dict((k.encode('hex'), v[1:].encode('hex')) \r\n",
      "                for k,v in trie.to_dict().iteritems())\r\n",
      "\r\n",
      "for k,v in simplify_trie(s.block.get_storage(contract.address)).iteritems():\r\n",
      "    print k,v\r\n",
      "\r\n",
      "# Print the balance of Alice\r\n",
      "#print \"[1] Alice' balance\", s.block.get_balance(alice)\r\n",
      "#s.send(tester.k0, contract.address, 1)\r\n",
      "#print \"[2] Alice' balance\", s.block.get_balance(alice)\r\n",
      "\r\n",
      "\r\n",
      "# Look at compiled code\r\n",
      "# print serpent.pretty_compile(contract_code)\r\n",
      "\r\n",
      "# Look at intermediate LLL language\r\n",
      "# print serpent.pretty_compile(contract_code)\r\n"
     ]
    }
   ],
   "source": [
    "# workshop/safe-smart-contracts-workshop-08-2015\n",
    "!cat workshop/safe-smart-contracts-workshop-08-2015/example-01-basics.py"
   ]
  },
  {
   "cell_type": "code",
   "execution_count": 4,
   "metadata": {
    "collapsed": false
   },
   "outputs": [
    {
     "name": "stdout",
     "output_type": "stream",
     "text": [
      "{u'x': 'Hello World!', '_event_type': 'Notice'}\n",
      "0000000000000000000000000000000000000000000000000000000000000000 c0ffeebabe\n",
      "0000000000000000000000000000000000000000000000000000000000000001 0627\n",
      "000000000000000000000000000000000000000000000000000000000000dead beef\n",
      "48656c6c6f000000000000000000000000000000000000000000000000000000 576f726c64210000000000000000000000000000000000000000000000000000\n"
     ]
    },
    {
     "name": "stderr",
     "output_type": "stream",
     "text": [
      "/usr/lib/python2.7/dist-packages/pkg_resources.py:1031: UserWarning: /home/ubuntu/.python-eggs is writable by group/others and vulnerable to attack when used with get_resource_filename. Consider a more secure location (set with .set_extraction_path or the PYTHON_EGG_CACHE environment variable).\n",
      "  warnings.warn(msg, UserWarning)\n",
      "No handlers could be found for logger \"eth.pow\"\n"
     ]
    }
   ],
   "source": [
    "run workshop/safe-smart-contracts-workshop-08-2015/example-01-basics.py"
   ]
  },
  {
   "cell_type": "code",
   "execution_count": 6,
   "metadata": {
    "collapsed": false
   },
   "outputs": [
    {
     "name": "stdout",
     "output_type": "stream",
     "text": [
      "{u'x': 'Hello World!', '_event_type': 'Notice'}\n",
      "0000000000000000000000000000000000000000000000000000000000000000 c0ffeebabe\n",
      "0000000000000000000000000000000000000000000000000000000000000001 0627\n",
      "000000000000000000000000000000000000000000000000000000000000dead beef\n",
      "48656c6c6f000000000000000000000000000000000000000000000000000000 576f726c64210000000000000000000000000000000000000000000000000000\n"
     ]
    }
   ],
   "source": [
    "from ethereum import tester\n",
    "\n",
    "# Logging (change to \"trace\" to see more)\n",
    "#from ethereum import slogging\n",
    "#slogging.set_level('eth.pb.tx', 'warning')\n",
    "#slogging.set_level('eth.vm.op', 'warning')\n",
    "\n",
    "# Serpent code\n",
    "contract_code = \"\"\"\n",
    "event Notice(x:str)\n",
    "\n",
    "def test_function(x):\n",
    "   log(type=Notice, text(\"Hello World!\"))\n",
    "\n",
    "   self.storage[0] = x\n",
    "   self.storage[0xDEAD] = 0xBEEF\n",
    "   self.storage[\"Hello\"] = \"World!\"\n",
    "   self.storage[1] = 10 + 1245 + 320   # 1575 = 0x0627\n",
    "\n",
    "\"\"\"\n",
    "\n",
    "s = tester.state()\n",
    "\n",
    "# Create the contract\n",
    "full_code = contract_code\n",
    "contract = s.abi_contract(full_code)\n",
    "\n",
    "# Invoke a method (in the local \"mempool\", to go in the next block)\n",
    "contract.test_function(\"C0FFEEBABE\".decode('hex'))\n",
    "\n",
    "# Mine blocks\n",
    "s.mine(10)\n",
    "\n",
    "# Inspect the contract storage\n",
    "def simplify_trie(trie):\n",
    "    return dict((k.encode('hex'), v[1:].encode('hex')) \n",
    "                for k,v in trie.to_dict().iteritems())\n",
    "\n",
    "for k,v in simplify_trie(s.block.get_storage(contract.address)).iteritems():\n",
    "    print k,v\n",
    "\n",
    "# Print the balance of Alice\n",
    "#print \"[1] Alice' balance\", s.block.get_balance(alice)\n",
    "#s.send(tester.k0, contract.address, 1)\n",
    "#print \"[2] Alice' balance\", s.block.get_balance(alice)\n",
    "\n",
    "\n",
    "# Look at compiled code\n",
    "# print serpent.pretty_compile(contract_code)\n",
    "\n",
    "# Look at intermediate LLL language\n",
    "# print serpent.pretty_compile(contract_code)\n"
   ]
  },
  {
   "cell_type": "code",
   "execution_count": 8,
   "metadata": {
    "collapsed": false
   },
   "outputs": [
    {
     "data": {
      "text/plain": [
       "'\\x82\\xa9x\\xb3\\xf5\\x96*[\\tW\\xd9\\xee\\x9e\\xefG.\\xe5[B\\xf1'"
      ]
     },
     "execution_count": 8,
     "metadata": {},
     "output_type": "execute_result"
    }
   ],
   "source": [
    "tester.a0"
   ]
  },
  {
   "cell_type": "code",
   "execution_count": 10,
   "metadata": {
    "collapsed": false
   },
   "outputs": [
    {
     "data": {
      "text/plain": [
       "'\\xe0\\xfc\\x04\\xfa-4\\xa6kw\\x9f\\xd5\\xce\\xe7H&\\x802\\xa1F\\xc0'"
      ]
     },
     "execution_count": 10,
     "metadata": {},
     "output_type": "execute_result"
    }
   ],
   "source": [
    "tester.a8"
   ]
  },
  {
   "cell_type": "code",
   "execution_count": 11,
   "metadata": {
    "collapsed": false
   },
   "outputs": [
    {
     "name": "stdout",
     "output_type": "stream",
     "text": [
      "from ethereum import tester\r\n",
      "import os\r\n",
      "\r\n",
      "contract_code = \"\"\"\r\n",
      "event Notice(x:str)\r\n",
      "\r\n",
      "alice = 0x{alice}\r\n",
      "bob = 0x{bob}\r\n",
      "\r\n",
      "def load_money():\r\n",
      "   # Must pay before time #1\r\n",
      "   if block.number > 1: \r\n",
      "      log(type=Notice, text(\"load_money: called after block 1\"))\r\n",
      "      return(0)\r\n",
      "\r\n",
      "   if msg.value != 10*(10**21):\r\n",
      "      log(type=Notice, text(\"load_money: wrong amount\"))\r\n",
      "      return(0)\r\n",
      "\r\n",
      "   if msg.sender == alice:\r\n",
      "      log(type=Notice, text(\"load_money: Alice OK!\"))\r\n",
      "\r\n",
      "   if msg.sender == bob:\r\n",
      "      log(type=Notice, text(\"load_money: Bob OK!\"))\r\n",
      "\r\n",
      "   # Mark user as having paid\r\n",
      "   self.storage[msg.sender] = 1 \r\n",
      "\r\n",
      "def cash_out():\r\n",
      "   # Critical block is #2\r\n",
      "   # Must wait for block #3 to cash out\r\n",
      "   if block.number < 3:\r\n",
      "      log(type=Notice, text(\"cash_out: called before block 3\"))\r\n",
      "      return(0)\r\n",
      "\r\n",
      "   if not self.storage[alice]:\r\n",
      "      log(type=Notice, text(\"cash_out: Alice didn't pay!\"))\r\n",
      "      send(bob, self.balance)\r\n",
      "      return(0)\r\n",
      "\r\n",
      "   if not self.storage[bob]:\r\n",
      "      log(type=Notice, text(\"cash_out: Bob didn't pay!\"))\r\n",
      "      send(alice, self.balance)\r\n",
      "      return(0)\r\n",
      "\r\n",
      "   block2 = block.prevhash(block.number - 2)\r\n",
      "   if block2 % 2 == 0:\r\n",
      "      log(type=Notice, text(\"cash_out: Alice won!\"))\r\n",
      "      send(alice, self.balance)\r\n",
      "\r\n",
      "   else:\r\n",
      "      log(type=Notice, text(\"cash_out: Bob won!\"))\r\n",
      "      send(bob, self.balance)\r\n",
      "\r\n",
      "\"\"\"\r\n",
      "\r\n",
      "s = tester.state()\r\n",
      "\r\n",
      "# Use default addresses for Alice and Bob\r\n",
      "alice = tester.a0\r\n",
      "bob = tester.a1\r\n",
      "\r\n",
      "print 'Initial balances:'\r\n",
      "print 'Alice: %.2f' % (float(s.block.get_balance(alice)) / 10E21)\r\n",
      "print '  Bob: %.2f' % (float(s.block.get_balance(bob)) / 10E21)\r\n",
      "\r\n",
      "# Create the contract\r\n",
      "full_code = contract_code.format(alice=alice.encode('hex'),\r\n",
      "                                 bob=bob.encode('hex'))\r\n",
      "contract = s.abi_contract(full_code)\r\n",
      "\r\n",
      "# Both parties deposit money\r\n",
      "s.mine(3)\r\n",
      "contract.load_money(value=int(10E21), sender=tester.k0) # Alice\r\n",
      "contract.load_money(value=int(10E21), sender=tester.k1) # Bob\r\n",
      "\r\n",
      "# Mine some blocks\r\n",
      "s.block.extra_data = os.urandom(20) # Add actual randomness\r\n",
      "s.mine(3)\r\n",
      "\r\n",
      "# Run the cash_out \r\n",
      "contract.cash_out()\r\n",
      "\r\n",
      "print 'Final balances:'\r\n",
      "print 'Alice: %.2f' % (float(s.block.get_balance(alice)) / 10E21)\r\n",
      "print '  Bob: %.2f' % (float(s.block.get_balance(bob)) / 10E21)\r\n"
     ]
    }
   ],
   "source": [
    "!cat workshop/safe-smart-contracts-workshop-08-2015/example-02-buggy-lottery.py"
   ]
  },
  {
   "cell_type": "code",
   "execution_count": null,
   "metadata": {
    "collapsed": true
   },
   "outputs": [],
   "source": []
  }
 ],
 "metadata": {
  "kernelspec": {
   "display_name": "Python 2",
   "language": "python",
   "name": "python2"
  },
  "language_info": {
   "codemirror_mode": {
    "name": "ipython",
    "version": 2
   },
   "file_extension": ".py",
   "mimetype": "text/x-python",
   "name": "python",
   "nbconvert_exporter": "python",
   "pygments_lexer": "ipython2",
   "version": "2.7.6"
  }
 },
 "nbformat": 4,
 "nbformat_minor": 0
}
