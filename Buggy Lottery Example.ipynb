{
 "cells": [
  {
   "cell_type": "code",
   "execution_count": 21,
   "metadata": {
    "collapsed": false
   },
   "outputs": [
    {
     "name": "stdout",
     "output_type": "stream",
     "text": [
      "Initial balances:\n",
      "Alice: 100.00\n",
      "  Bob: 100.00\n",
      "{u'x': 'load_money: Alice OK!', '_event_type': 'Notice'}\n",
      "{u'x': 'load_money: Bob OK!', '_event_type': 'Notice'}\n",
      "{u'x': 'cash_out: called before block 3', '_event_type': 'Notice'}\n",
      "Final balances:\n",
      "Alice: 99.00\n",
      "  Bob: 99.00\n"
     ]
    }
   ],
   "source": [
    "from ethereum import tester\n",
    "import os\n",
    "\n",
    "contract_code = \"\"\"\n",
    "event Notice(x:str)\n",
    "\n",
    "alice = 0x{alice}\n",
    "bob = 0x{bob}\n",
    "\n",
    "def load_money():\n",
    "   # Must pay before time #1\n",
    "   if block.number > 1: \n",
    "      log(type=Notice, text(\"load_money: called after block 1\"))\n",
    "      return(0)\n",
    "\n",
    "   if msg.value != 10*(10**21):\n",
    "      log(type=Notice, text(\"load_money: wrong amount\"))\n",
    "      return(0)\n",
    "\n",
    "   if msg.sender == alice:\n",
    "      log(type=Notice, text(\"load_money: Alice OK!\"))\n",
    "\n",
    "   if msg.sender == bob:\n",
    "      log(type=Notice, text(\"load_money: Bob OK!\"))\n",
    "\n",
    "   # Mark user as having paid\n",
    "   self.storage[msg.sender] = 1 \n",
    "\n",
    "def cash_out():\n",
    "   # Critical block is #2\n",
    "   # Must wait for block #3 to cash out\n",
    "   if block.number < 3:\n",
    "      log(type=Notice, text(\"cash_out: called before block 3\"))\n",
    "      return(0)\n",
    "\n",
    "   if not self.storage[alice]:\n",
    "      log(type=Notice, text(\"cash_out: Alice didn't pay!\"))\n",
    "      send(bob, self.balance)\n",
    "      return(0)\n",
    "\n",
    "   if not self.storage[bob]:\n",
    "      log(type=Notice, text(\"cash_out: Bob didn't pay!\"))\n",
    "      send(alice, self.balance)\n",
    "      return(0)\n",
    "\n",
    "   block2 = block.prevhash(block.number - 2)\n",
    "   if block2 % 2 == 0:\n",
    "      log(type=Notice, text(\"cash_out: Alice won!\"))\n",
    "      send(alice, self.balance)\n",
    "\n",
    "   else:\n",
    "      log(type=Notice, text(\"cash_out: Bob won!\"))\n",
    "      send(bob, self.balance)\n",
    "\n",
    "\"\"\"\n",
    "\n",
    "s = tester.state()\n",
    "\n",
    "# Use default addresses for Alice and Bob\n",
    "alice = tester.a0\n",
    "bob = tester.a1\n",
    "\n",
    "print 'Initial balances:'\n",
    "print 'Alice: %.2f' % (float(s.block.get_balance(alice)) / 10E21)\n",
    "print '  Bob: %.2f' % (float(s.block.get_balance(bob)) / 10E21)\n",
    "\n",
    "# Create the contract\n",
    "full_code = contract_code.format(alice=alice.encode('hex'),\n",
    "                                 bob=bob.encode('hex'))\n",
    "contract = s.abi_contract(full_code)\n",
    "\n",
    "# Both parties deposit money\n",
    "# Comment out this line, it will shift the timeline too fast...\n",
    "#s.mine(3)\n",
    "contract.load_money(value=int(10E21), sender=tester.k0) # Alice\n",
    "contract.load_money(value=int(10E21), sender=tester.k1) # Bob\n",
    "\n",
    "# Mine some blocks\n",
    "s.block.extra_data = os.urandom(20) # Add actual randomness\n",
    "# If you mine 1, cashes are depositted\n",
    "# If you mine 2, the lottery result is out; but not cashed\n",
    "# If you mine 3, result is cashed out\n",
    "s.mine(3) \n",
    "\n",
    "# Run the cash_out \n",
    "contract.cash_out()\n",
    "\n",
    "print 'Final balances:'\n",
    "print 'Alice: %.2f' % (float(s.block.get_balance(alice)) / 10E21)\n",
    "print '  Bob: %.2f' % (float(s.block.get_balance(bob)) / 10E21)\n"
   ]
  },
  {
   "cell_type": "code",
   "execution_count": 15,
   "metadata": {
    "collapsed": false
   },
   "outputs": [
    {
     "data": {
      "text/plain": [
       "{'db': <ethereum.db._EphemDB at 0x7fd135c82b10>,\n",
       " 'death_row_timeout': 5000,\n",
       " 'journal': [],\n",
       " 'nodes_for_death_row': [],\n",
       " 'root_node': ['\\x94\\x8c\\x00DP\\xed\\x9a9\\xffxp\\x1a\\xf2\\xc6\\x90-\\xd6^0C3\\x96\\xcf\\r\\xad\\xe7\\x9c0\\xcd\\x85 %',\n",
       "  '',\n",
       "  '',\n",
       "  '',\n",
       "  '',\n",
       "  '',\n",
       "  '',\n",
       "  '',\n",
       "  '3:\\x15yH\\x841\\xc9e*\\x84\\x03^\\xa7\\x8f5\\x16\\xa7\\xc0\\x90\\x83\\xb5.\\x1fzv\\xae\\x17\\xa7\\x11kY',\n",
       "  '',\n",
       "  '',\n",
       "  '',\n",
       "  '',\n",
       "  '',\n",
       "  '',\n",
       "  '',\n",
       "  ''],\n",
       " 'transient': False}"
      ]
     },
     "execution_count": 15,
     "metadata": {},
     "output_type": "execute_result"
    }
   ],
   "source": [
    "s.blocks[0].transactions.__dict__"
   ]
  },
  {
   "cell_type": "code",
   "execution_count": 24,
   "metadata": {
    "collapsed": false
   },
   "outputs": [
    {
     "name": "stdout",
     "output_type": "stream",
     "text": [
      "{u'x': 'load_money: called after block 1', '_event_type': 'Notice'}\n",
      "{u'x': 'load_money: called after block 1', '_event_type': 'Notice'}\n",
      "{u'x': \"cash_out: Alice didn't pay!\", '_event_type': 'Notice'}\n",
      "Final balances:\n",
      "Alice: 79.06\n",
      "  Bob: 121.00\n"
     ]
    }
   ],
   "source": [
    "s.mine(3)\n",
    "contract.load_money(value=int(10E21), sender=tester.k0) # Alice\n",
    "contract.load_money(value=int(10E21), sender=tester.k1) # Bob\n",
    "\n",
    "# Mine some blocks\n",
    "s.block.extra_data = os.urandom(20) # Add actual randomness\n",
    "s.mine(3)\n",
    "\n",
    "# Run the cash_out \n",
    "contract.cash_out()\n",
    "print 'Final balances:'\n",
    "print 'Alice: %.2f' % (float(s.block.get_balance(alice)) / 10E21)\n",
    "print '  Bob: %.2f' % (float(s.block.get_balance(bob)) / 10E21)\n"
   ]
  },
  {
   "cell_type": "code",
   "execution_count": 29,
   "metadata": {
    "collapsed": false
   },
   "outputs": [
    {
     "name": "stdout",
     "output_type": "stream",
     "text": [
      "<ethereum.tester.state instance at 0x7fdce238d440>\n"
     ]
    }
   ],
   "source": [
    "print tester.state()"
   ]
  },
  {
   "cell_type": "code",
   "execution_count": 39,
   "metadata": {
    "collapsed": false
   },
   "outputs": [
    {
     "data": {
      "text/plain": [
       "'82a978b3f5962a5b0957d9ee9eef472ee55b42f1'"
      ]
     },
     "execution_count": 39,
     "metadata": {},
     "output_type": "execute_result"
    }
   ],
   "source": [
    "alice.encode('hex')"
   ]
  },
  {
   "cell_type": "code",
   "execution_count": 34,
   "metadata": {
    "collapsed": false
   },
   "outputs": [
    {
     "name": "stdout",
     "output_type": "stream",
     "text": [
      "eth0      Link encap:Ethernet  HWaddr fa:16:3e:74:fb:0c  \r\n",
      "          inet addr:192.168.11.132  Bcast:192.168.11.255  Mask:255.255.255.0\r\n",
      "          inet6 addr: fe80::f816:3eff:fe74:fb0c/64 Scope:Link\r\n",
      "          UP BROADCAST RUNNING MULTICAST  MTU:1454  Metric:1\r\n",
      "          RX packets:48093 errors:0 dropped:0 overruns:0 frame:0\r\n",
      "          TX packets:9169 errors:0 dropped:0 overruns:0 carrier:0\r\n",
      "          collisions:0 txqueuelen:1000 \r\n",
      "          RX bytes:11910663 (11.9 MB)  TX bytes:5067787 (5.0 MB)\r\n",
      "\r\n",
      "lo        Link encap:Local Loopback  \r\n",
      "          inet addr:127.0.0.1  Mask:255.0.0.0\r\n",
      "          inet6 addr: ::1/128 Scope:Host\r\n",
      "          UP LOOPBACK RUNNING  MTU:65536  Metric:1\r\n",
      "          RX packets:2285 errors:0 dropped:0 overruns:0 frame:0\r\n",
      "          TX packets:2285 errors:0 dropped:0 overruns:0 carrier:0\r\n",
      "          collisions:0 txqueuelen:0 \r\n",
      "          RX bytes:4359824 (4.3 MB)  TX bytes:4359824 (4.3 MB)\r\n",
      "\r\n"
     ]
    }
   ],
   "source": [
    "!ifconfig"
   ]
  },
  {
   "cell_type": "code",
   "execution_count": 2,
   "metadata": {
    "collapsed": false
   },
   "outputs": [
    {
     "name": "stdout",
     "output_type": "stream",
     "text": [
      "Help on built-in function urandom in module posix:\n",
      "\n",
      "urandom(...)\n",
      "    urandom(n) -> str\n",
      "    \n",
      "    Return n random bytes suitable for cryptographic use.\n",
      "\n"
     ]
    }
   ],
   "source": [
    "help(os.urandom)"
   ]
  },
  {
   "cell_type": "code",
   "execution_count": 13,
   "metadata": {
    "collapsed": false
   },
   "outputs": [
    {
     "data": {
      "text/plain": [
       "'c89efdaa54c0f20c7adf612882df0950f5a951637e0307cdcb4c672f298b8bc6'"
      ]
     },
     "execution_count": 13,
     "metadata": {},
     "output_type": "execute_result"
    }
   ],
   "source": [
    "tester.k1.encode('hex')   # This is the public key"
   ]
  },
  {
   "cell_type": "code",
   "execution_count": 14,
   "metadata": {
    "collapsed": false
   },
   "outputs": [
    {
     "data": {
      "text/plain": [
       "'7d577a597b2742b498cb5cf0c26cdcd726d39e6e'"
      ]
     },
     "execution_count": 14,
     "metadata": {},
     "output_type": "execute_result"
    }
   ],
   "source": [
    "tester.a1.encode('hex')   # This is the private key"
   ]
  },
  {
   "cell_type": "code",
   "execution_count": 16,
   "metadata": {
    "collapsed": false
   },
   "outputs": [
    {
     "name": "stdout",
     "output_type": "stream",
     "text": [
      "no Python documentation found for '\\xc8\\x9e\\xfd\\xaaT\\xc0\\xf2\\x0cz\\xdfa(\\x82\\xdf\\tP\\xf5\\xa9Qc~\\x03\\x07\\xcd\\xcbLg/)\\x8b\\x8b\\xc6'\n",
      "\n"
     ]
    }
   ],
   "source": []
  },
  {
   "cell_type": "code",
   "execution_count": null,
   "metadata": {
    "collapsed": true
   },
   "outputs": [],
   "source": []
  }
 ],
 "metadata": {
  "kernelspec": {
   "display_name": "Python 2",
   "language": "python",
   "name": "python2"
  },
  "language_info": {
   "codemirror_mode": {
    "name": "ipython",
    "version": 2
   },
   "file_extension": ".py",
   "mimetype": "text/x-python",
   "name": "python",
   "nbconvert_exporter": "python",
   "pygments_lexer": "ipython2",
   "version": "2.7.6"
  }
 },
 "nbformat": 4,
 "nbformat_minor": 0
}
