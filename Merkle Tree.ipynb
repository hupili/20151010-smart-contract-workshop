{
 "cells": [
  {
   "cell_type": "code",
   "execution_count": 2,
   "metadata": {
    "collapsed": false
   },
   "outputs": [
    {
     "name": "stdout",
     "output_type": "stream",
     "text": [
      "from ethereum import tester\r\n",
      "from ethereum import utils\r\n",
      "from ethereum import slogging\r\n",
      "import rlp\r\n",
      "\r\n",
      "file_chunks = [\r\n",
      " \"A  purely peer-to-peer\",\r\n",
      " \"version of electronic\",\r\n",
      " \"cash would allow online\",\r\n",
      " \"payments to be sent directly\",\r\n",
      " \"from one party to another\",\r\n",
      " \"without going through a\",\r\n",
      " \"financial institution.\",\r\n",
      " \"Digital signatures provide\",\r\n",
      " \"part of the solution, but\",\r\n",
      " \"the main benefits are lost\",\r\n",
      " \"if a trusted third party\",\r\n",
      " \"is still required to prevent\",\r\n",
      " \"double-spending. We propose\",\r\n",
      " \"a solution to the double\",\r\n",
      " \"-spending problem using a\",\r\n",
      " \"peer-to-peer network.\"]\r\n",
      "\r\n",
      "zfill = lambda s: (32-len(s))*'\\x00' + s\r\n",
      "file_chunks = map(zfill, file_chunks)\r\n",
      "\r\n",
      "contract_code = \"\"\"\r\n",
      "\r\n",
      "root = 0x{}\r\n",
      "\r\n",
      "macro hash_node($h, $sibling, $bit):\r\n",
      "    if $bit == 0:\r\n",
      "        sha3([$h, $sibling], items=2)\r\n",
      "    else:\r\n",
      "        sha3([$sibling, $h], items=2)\r\n",
      "\r\n",
      "def check_index(x:bytes32, bits:uint8[4], siblings:bytes32[4]):\r\n",
      "    h = hash_node(x, siblings[0], bits[0])\r\n",
      "    h = hash_node(h, siblings[1], bits[1])\r\n",
      "    h = hash_node(h, siblings[2], bits[2])\r\n",
      "    h = hash_node(h, siblings[3], bits[3])\r\n",
      "    if h == root: \r\n",
      "        return(1)\r\n",
      "    else: \r\n",
      "        return(0)\r\n",
      "\"\"\"\r\n",
      "\r\n",
      "# Build the merkle tree\r\n",
      "layer_1 = [utils.sha3(file_chunks[2*i+0] + file_chunks[2*i+1])\r\n",
      "           for i in range(8)]\r\n",
      "layer_2 = [utils.sha3(layer_1[2*i+0] + layer_1[2*i+1])\r\n",
      "           for i in range(4)]\r\n",
      "layer_3 = [utils.sha3(layer_2[2*i+0] + layer_2[2*i+1])\r\n",
      "           for i in range(2)]\r\n",
      "root_hash = utils.sha3(layer_3[0] + layer_3[1])\r\n",
      "\r\n",
      "\r\n",
      "def index_to_bits(ind):\r\n",
      "    bits = []\r\n",
      "    for i in range(4):\r\n",
      "        bits.append(ind % 2)\r\n",
      "        ind /= 2\r\n",
      "    return bits\r\n",
      "\r\n",
      "def get_siblings(bits):\r\n",
      "    assert len(bits) == 4\r\n",
      "    if bits[3] == 0: sibling3 = layer_3[1]\r\n",
      "    else: sibling3 = layer_3[0]\r\n",
      "\r\n",
      "    offset = bits[3]*2\r\n",
      "    if bits[2] == 0: sibling2 = layer_2[offset+1]\r\n",
      "    else: sibling2 = layer_2[offset]\r\n",
      "\r\n",
      "    offset = 2*offset + bits[2]*2\r\n",
      "    if bits[1] == 0: sibling1 = layer_1[offset+1]\r\n",
      "    else: sibling1 = layer_1[offset]\r\n",
      "\r\n",
      "    offset = 2*offset + bits[1]*2\r\n",
      "    if bits[0] == 0: sibling0 = file_chunks[offset+1]\r\n",
      "    else: sibling0 = file_chunks[offset]\r\n",
      "\r\n",
      "    return [sibling0, sibling1, sibling2, sibling3]\r\n",
      "\r\n",
      "s = tester.state()\r\n",
      "c = s.abi_contract(contract_code.format(root_hash.encode('hex')))\r\n",
      "\r\n",
      "def test_index(ind):\r\n",
      "    bits = index_to_bits(ind)\r\n",
      "    chunk = file_chunks[ind]\r\n",
      "    siblings = get_siblings(bits)\r\n",
      "    assert c.check_index(chunk, bits, siblings) == 1\r\n",
      "\r\n",
      "test_index(0)\r\n",
      "test_index(1)\r\n",
      "test_index(2)\r\n"
     ]
    }
   ],
   "source": [
    "!cat workshop/safe-smart-contracts-workshop-08-2015/example-05-merkletree.py"
   ]
  },
  {
   "cell_type": "code",
   "execution_count": 3,
   "metadata": {
    "collapsed": false
   },
   "outputs": [
    {
     "name": "stderr",
     "output_type": "stream",
     "text": [
      "/usr/lib/python2.7/dist-packages/pkg_resources.py:1031: UserWarning: /home/ubuntu/.python-eggs is writable by group/others and vulnerable to attack when used with get_resource_filename. Consider a more secure location (set with .set_extraction_path or the PYTHON_EGG_CACHE environment variable).\n",
      "  warnings.warn(msg, UserWarning)\n",
      "No handlers could be found for logger \"eth.pow\"\n"
     ]
    }
   ],
   "source": [
    "from ethereum import tester\n",
    "from ethereum import utils\n",
    "from ethereum import slogging\n",
    "import rlp\n",
    "\n",
    "file_chunks = [\n",
    " \"A  purely peer-to-peer\",\n",
    " \"version of electronic\",\n",
    " \"cash would allow online\",\n",
    " \"payments to be sent directly\",\n",
    " \"from one party to another\",\n",
    " \"without going through a\",\n",
    " \"financial institution.\",\n",
    " \"Digital signatures provide\",\n",
    " \"part of the solution, but\",\n",
    " \"the main benefits are lost\",\n",
    " \"if a trusted third party\",\n",
    " \"is still required to prevent\",\n",
    " \"double-spending. We propose\",\n",
    " \"a solution to the double\",\n",
    " \"-spending problem using a\",\n",
    " \"peer-to-peer network.\"]\n",
    "\n",
    "zfill = lambda s: (32-len(s))*'\\x00' + s\n",
    "file_chunks = map(zfill, file_chunks)\n",
    "\n",
    "contract_code = \"\"\"\n",
    "\n",
    "root = 0x{}\n",
    "\n",
    "macro hash_node($h, $sibling, $bit):\n",
    "    if $bit == 0:\n",
    "        sha3([$h, $sibling], items=2)\n",
    "    else:\n",
    "        sha3([$sibling, $h], items=2)\n",
    "\n",
    "def check_index(x:bytes32, bits:uint8[4], siblings:bytes32[4]):\n",
    "    h = hash_node(x, siblings[0], bits[0])\n",
    "    h = hash_node(h, siblings[1], bits[1])\n",
    "    h = hash_node(h, siblings[2], bits[2])\n",
    "    h = hash_node(h, siblings[3], bits[3])\n",
    "    if h == root: \n",
    "        return(1)\n",
    "    else: \n",
    "        return(0)\n",
    "\"\"\"\n",
    "\n",
    "# Build the merkle tree\n",
    "layer_1 = [utils.sha3(file_chunks[2*i+0] + file_chunks[2*i+1])\n",
    "           for i in range(8)]\n",
    "layer_2 = [utils.sha3(layer_1[2*i+0] + layer_1[2*i+1])\n",
    "           for i in range(4)]\n",
    "layer_3 = [utils.sha3(layer_2[2*i+0] + layer_2[2*i+1])\n",
    "           for i in range(2)]\n",
    "root_hash = utils.sha3(layer_3[0] + layer_3[1])\n",
    "\n",
    "\n",
    "def index_to_bits(ind):\n",
    "    bits = []\n",
    "    for i in range(4):\n",
    "        bits.append(ind % 2)\n",
    "        ind /= 2\n",
    "    return bits\n",
    "\n",
    "def get_siblings(bits):\n",
    "    assert len(bits) == 4\n",
    "    if bits[3] == 0: sibling3 = layer_3[1]\n",
    "    else: sibling3 = layer_3[0]\n",
    "\n",
    "    offset = bits[3]*2\n",
    "    if bits[2] == 0: sibling2 = layer_2[offset+1]\n",
    "    else: sibling2 = layer_2[offset]\n",
    "\n",
    "    offset = 2*offset + bits[2]*2\n",
    "    if bits[1] == 0: sibling1 = layer_1[offset+1]\n",
    "    else: sibling1 = layer_1[offset]\n",
    "\n",
    "    offset = 2*offset + bits[1]*2\n",
    "    if bits[0] == 0: sibling0 = file_chunks[offset+1]\n",
    "    else: sibling0 = file_chunks[offset]\n",
    "\n",
    "    return [sibling0, sibling1, sibling2, sibling3]\n",
    "\n",
    "s = tester.state()\n",
    "c = s.abi_contract(contract_code.format(root_hash.encode('hex')))\n",
    "\n",
    "def test_index(ind):\n",
    "    bits = index_to_bits(ind)\n",
    "    chunk = file_chunks[ind]\n",
    "    siblings = get_siblings(bits)\n",
    "    assert c.check_index(chunk, bits, siblings) == 1\n",
    "\n",
    "test_index(0)\n",
    "test_index(1)\n",
    "test_index(2)\n"
   ]
  },
  {
   "cell_type": "code",
   "execution_count": 4,
   "metadata": {
    "collapsed": false
   },
   "outputs": [
    {
     "name": "stdout",
     "output_type": "stream",
     "text": [
      "None\n",
      "None\n",
      "None\n"
     ]
    }
   ],
   "source": [
    "print test_index(0)\n",
    "print test_index(1)\n",
    "print test_index(2)\n"
   ]
  },
  {
   "cell_type": "code",
   "execution_count": 5,
   "metadata": {
    "collapsed": false
   },
   "outputs": [
    {
     "data": {
      "text/plain": [
       "[1, 1, 1, 0]"
      ]
     },
     "execution_count": 5,
     "metadata": {},
     "output_type": "execute_result"
    }
   ],
   "source": [
    "index_to_bits(7)"
   ]
  },
  {
   "cell_type": "code",
   "execution_count": 6,
   "metadata": {
    "collapsed": false
   },
   "outputs": [
    {
     "data": {
      "text/plain": [
       "[1, 1, 0, 1]"
      ]
     },
     "execution_count": 6,
     "metadata": {},
     "output_type": "execute_result"
    }
   ],
   "source": [
    "index_to_bits(11)"
   ]
  },
  {
   "cell_type": "code",
   "execution_count": null,
   "metadata": {
    "collapsed": true
   },
   "outputs": [],
   "source": []
  }
 ],
 "metadata": {
  "kernelspec": {
   "display_name": "Python 2",
   "language": "python",
   "name": "python2"
  },
  "language_info": {
   "codemirror_mode": {
    "name": "ipython",
    "version": 2
   },
   "file_extension": ".py",
   "mimetype": "text/x-python",
   "name": "python",
   "nbconvert_exporter": "python",
   "pygments_lexer": "ipython2",
   "version": "2.7.6"
  }
 },
 "nbformat": 4,
 "nbformat_minor": 0
}
