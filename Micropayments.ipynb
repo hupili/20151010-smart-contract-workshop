{
 "cells": [
  {
   "cell_type": "code",
   "execution_count": 5,
   "metadata": {
    "collapsed": false
   },
   "outputs": [
    {
     "name": "stdout",
     "output_type": "stream",
     "text": [
      "workshop/safe-smart-contracts-workshop-08-2015/example-04-micropayments.py\r\n"
     ]
    }
   ],
   "source": [
    "!ls workshop/safe-smart-contracts-workshop-08-2015/example-04-micropayments.py"
   ]
  },
  {
   "cell_type": "code",
   "execution_count": 6,
   "metadata": {
    "collapsed": false
   },
   "outputs": [
    {
     "name": "stdout",
     "output_type": "stream",
     "text": [
      "from ethereum import tester, utils\r\n",
      "import bitcoin\r\n",
      "import os\r\n",
      "\r\n",
      "contract_code = \"\"\"\r\n",
      "event Notice(x:str)\r\n",
      "\r\n",
      "alice = 0x{alice}\r\n",
      "bob = 0x{bob}\r\n",
      "deadline = {deadline}\r\n",
      "\r\n",
      "macro verify_signature($addr, $m, $v, $r, $s):\r\n",
      "    $addr == ecrecover(sha3($m), $v, $r, $s)\r\n",
      "\r\n",
      "def refund():\r\n",
      "   if msg.sender != alice:\r\n",
      "      log(type=Notice, text(\"refund called by other-than-Alice\"))\r\n",
      "      return(-1)\r\n",
      "\r\n",
      "   if block.number < deadline: \r\n",
      "      log(type=Notice, text(\"Too soon for Alice to claim refund\"))\r\n",
      "      return(-1)\r\n",
      "\r\n",
      "   send(alice, self.balance)\r\n",
      "\r\n",
      "def finalize(v,r,s, amount):\r\n",
      "   if msg.sender != bob:\r\n",
      "      log(type=Notice, text(\"finalize called by other-than-Bob\"))\r\n",
      "      return(-1)\r\n",
      "\r\n",
      "   if !verify_signature(alice, amount, v, r, s):\r\n",
      "      log(type=Notice, text(\"bad signature!\"))\r\n",
      "      return(-1)\r\n",
      "\r\n",
      "   send(bob, amount)\r\n",
      "   send(alice, self.balance)\r\n",
      "\r\n",
      "\"\"\"\r\n",
      "\r\n",
      "s = tester.state()\r\n",
      "\r\n",
      "# Use default addresses for Alice and Bob\r\n",
      "alice = tester.a0\r\n",
      "bob = tester.a1\r\n",
      "\r\n",
      "print 'Initial balances:'\r\n",
      "print 'Alice: %.2f' % (float(s.block.get_balance(alice)) / 10E21)\r\n",
      "print '  Bob: %.2f' % (float(s.block.get_balance(bob)) / 10E21)\r\n",
      "\r\n",
      "# Create the contract\r\n",
      "full_code = contract_code.format(alice=alice.encode('hex'),\r\n",
      "                                 bob=bob.encode('hex'),\r\n",
      "                                 deadline=10)\r\n",
      "contract = s.abi_contract(full_code)\r\n",
      "\r\n",
      "# zfill: left-pads a string with 0's until 32 bytes\r\n",
      "zfill = lambda s: (32-len(s))*'\\x00' + s\r\n",
      "\r\n",
      "\r\n",
      "# Alice deposit 30\r\n",
      "s.mine(10)\r\n",
      "s.send(tester.k0, contract.address, int(30*10E21))\r\n",
      "print 'After Deposit Balances:'\r\n",
      "print 'Alice: %.2f' % (float(s.block.get_balance(alice)) / 10E21)\r\n",
      "print '  Bob: %.2f' % (float(s.block.get_balance(bob)) / 10E21)\r\n",
      "print 'Contract: %.2f' % ( float(s.block.get_balance(contract.address)) / 10E21 )\r\n",
      "\r\n",
      "# The payment signature\r\n",
      "def sigamt(amount, priv=tester.k0):\r\n",
      "   amount = utils.int_to_bytes(amount)\r\n",
      "   amount = zfill(amount)\r\n",
      "   pub = bitcoin.privtopub(priv)\r\n",
      "   amthash = utils.sha3(amount)\r\n",
      "   V, R, S = bitcoin.ecdsa_raw_sign(amthash, priv)\r\n",
      "   assert bitcoin.ecdsa_raw_verify(amthash, (V,R,S), pub)\r\n",
      "   return V,R,S\r\n",
      "\r\n",
      "# first payment\r\n",
      "pay5 = sigamt(int(5*10E21))\r\n",
      "# second payment\r\n",
      "pay10 = sigamt(int(10*10E21))\r\n",
      "\r\n",
      "# Bob calls finalize\r\n",
      "V,R,S = pay10\r\n",
      "fval = int(10*10E21)\r\n",
      "contract.finalize(V,R,S, fval, sender=tester.k1)\r\n",
      "\r\n",
      "s.mine(10)\r\n",
      "# Alice calls refund\r\n",
      "#contract.refund(sender=tester.k0)\r\n",
      "\r\n",
      "\r\n",
      "print 'Finalized Balanced:'\r\n",
      "print 'Alice: %.2f' % (float(s.block.get_balance(alice)) / 10E21)\r\n",
      "print '  Bob: %.2f' % (float(s.block.get_balance(bob)) / 10E21)\r\n",
      "print 'Contract: %.2f' % ( float(s.block.get_balance(contract.address)) / 10E21 )\r\n"
     ]
    }
   ],
   "source": [
    "!cat workshop/safe-smart-contracts-workshop-08-2015/example-04-micropayments.py"
   ]
  },
  {
   "cell_type": "code",
   "execution_count": null,
   "metadata": {
    "collapsed": true
   },
   "outputs": [],
   "source": []
  }
 ],
 "metadata": {
  "kernelspec": {
   "display_name": "Python 2",
   "language": "python",
   "name": "python2"
  },
  "language_info": {
   "codemirror_mode": {
    "name": "ipython",
    "version": 2
   },
   "file_extension": ".py",
   "mimetype": "text/x-python",
   "name": "python",
   "nbconvert_exporter": "python",
   "pygments_lexer": "ipython2",
   "version": "2.7.6"
  }
 },
 "nbformat": 4,
 "nbformat_minor": 0
}
