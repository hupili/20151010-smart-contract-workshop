{
 "cells": [
  {
   "cell_type": "markdown",
   "metadata": {},
   "source": [
    "# Learn Serpent Notebook\n",
    "\n",
    "Ref:\n",
    "https://github.com/ethereum/wiki/wiki/Serpent"
   ]
  },
  {
   "cell_type": "code",
   "execution_count": 10,
   "metadata": {
    "collapsed": false
   },
   "outputs": [
    {
     "name": "stdout",
     "output_type": "stream",
     "text": [
      "/usr/lib/python2.7/dist-packages/pkg_resources.py:1031: UserWarning: /home/ubuntu/.python-eggs is writable by group/others and vulnerable to attack when used with get_resource_filename. Consider a more secure location (set with .set_extraction_path or the PYTHON_EGG_CACHE environment variable).\n",
      "  warnings.warn(msg, UserWarning)\n",
      "2.0.1\n"
     ]
    }
   ],
   "source": [
    "!serpent -v"
   ]
  },
  {
   "cell_type": "markdown",
   "metadata": {},
   "source": [
    "## First function"
   ]
  },
  {
   "cell_type": "code",
   "execution_count": 2,
   "metadata": {
    "collapsed": false
   },
   "outputs": [
    {
     "name": "stdout",
     "output_type": "stream",
     "text": [
      "Overwriting mul2.se\n"
     ]
    }
   ],
   "source": [
    "%%file mul2.se\n",
    "def double(x):\n",
    "    return(x * 2)"
   ]
  },
  {
   "cell_type": "markdown",
   "metadata": {},
   "source": [
    "## Compilation of codes"
   ]
  },
  {
   "cell_type": "code",
   "execution_count": 3,
   "metadata": {
    "collapsed": false
   },
   "outputs": [
    {
     "name": "stdout",
     "output_type": "stream",
     "text": [
      "/usr/lib/python2.7/dist-packages/pkg_resources.py:1031: UserWarning: /home/ubuntu/.python-eggs is writable by group/others and vulnerable to attack when used with get_resource_filename. Consider a more secure location (set with .set_extraction_path or the PYTHON_EGG_CACHE environment variable).\n",
      "  warnings.warn(msg, UserWarning)\n",
      "604380600b600039604e567c010000000000000000000000000000000000000000000000000000000060003504636ffa1caa81141560415760043560405260026040510260605260206060f35b505b6000f3\n"
     ]
    }
   ],
   "source": [
    "!serpent compile mul2.se"
   ]
  },
  {
   "cell_type": "code",
   "execution_count": 4,
   "metadata": {
    "collapsed": false
   },
   "outputs": [
    {
     "name": "stdout",
     "output_type": "stream",
     "text": [
      "/usr/lib/python2.7/dist-packages/pkg_resources.py:1031: UserWarning: /home/ubuntu/.python-eggs is writable by group/others and vulnerable to attack when used with get_resource_filename. Consider a more secure location (set with .set_extraction_path or the PYTHON_EGG_CACHE environment variable).\n",
      "  warnings.warn(msg, UserWarning)\n",
      "[PUSH1, 67, DUP1, PUSH1, 11, PUSH1, 0, CODECOPY, PUSH1, 78, JUMP, PUSH29, 1, 0, 0, 0, 0, 0, 0, 0, 0, 0, 0, 0, 0, 0, 0, 0, 0, 0, 0, 0, 0, 0, 0, 0, 0, 0, 0, 0, 0, PUSH1, 0, CALLDATALOAD, DIV, PUSH4, 111, 250, 28, 170, DUP2, EQ, ISZERO, PUSH1, 65, JUMPI, PUSH1, 4, CALLDATALOAD, PUSH1, 64, MSTORE, PUSH1, 2, PUSH1, 64, MLOAD, MUL, PUSH1, 96, MSTORE, PUSH1, 32, PUSH1, 96, RETURN, JUMPDEST, POP, JUMPDEST, PUSH1, 0, RETURN]\n"
     ]
    }
   ],
   "source": [
    "!serpent pretty_compile mul2.se"
   ]
  },
  {
   "cell_type": "code",
   "execution_count": 5,
   "metadata": {
    "collapsed": false
   },
   "outputs": [
    {
     "name": "stdout",
     "output_type": "stream",
     "text": [
      "/usr/lib/python2.7/dist-packages/pkg_resources.py:1031: UserWarning: /home/ubuntu/.python-eggs is writable by group/others and vulnerable to attack when used with get_resource_filename. Consider a more secure location (set with .set_extraction_path or the PYTHON_EGG_CACHE environment variable).\n",
      "  warnings.warn(msg, UserWarning)\n",
      "(return 0 \n",
      "  (lll \n",
      "    (with '__funid \n",
      "      (div (calldataload 0) \n",
      "        26959946667150639794667015087019630673637144422540572481103610249216\n",
      "      )\n",
      "      (unless (iszero (eq (get '__funid) 1878662314)) \n",
      "        (seq \n",
      "          (set 'x (calldataload 4))\n",
      "          (seq \n",
      "            (set '_temp_521 (mul (get 'x) 2))\n",
      "            (return (ref '_temp_521) 32)\n",
      "          )\n",
      "        )\n",
      "      )\n",
      "    )\n",
      "    0\n",
      "  )\n",
      ")\n"
     ]
    }
   ],
   "source": [
    "!serpent compile_to_lll mul2.se"
   ]
  },
  {
   "cell_type": "code",
   "execution_count": 7,
   "metadata": {
    "collapsed": false
   },
   "outputs": [
    {
     "name": "stdout",
     "output_type": "stream",
     "text": [
      "/usr/lib/python2.7/dist-packages/pkg_resources.py:1031: UserWarning: /home/ubuntu/.python-eggs is writable by group/others and vulnerable to attack when used with get_resource_filename. Consider a more secure location (set with .set_extraction_path or the PYTHON_EGG_CACHE environment variable).\n",
      "  warnings.warn(msg, UserWarning)\n",
      "Traceback (most recent call last):\n",
      "  File \"/usr/local/bin/serpent\", line 9, in <module>\n",
      "    load_entry_point('ethereum-serpent==2.0.1', 'console_scripts', 'serpent')()\n",
      "  File \"/usr/local/lib/python2.7/dist-packages/ethereum_serpent-2.0.1-py2.7-linux-x86_64.egg/EGG-INFO/scripts/serpent.py\", line 224, in main\n",
      "    \n",
      "TypeError: <lambda>() takes exactly 1 argument (2 given)\n"
     ]
    }
   ],
   "source": [
    "!serpent get_prefix double i"
   ]
  },
  {
   "cell_type": "code",
   "execution_count": 8,
   "metadata": {
    "collapsed": false
   },
   "outputs": [
    {
     "name": "stdout",
     "output_type": "stream",
     "text": [
      "/usr/lib/python2.7/dist-packages/pkg_resources.py:1031: UserWarning: /home/ubuntu/.python-eggs is writable by group/others and vulnerable to attack when used with get_resource_filename. Consider a more secure location (set with .set_extraction_path or the PYTHON_EGG_CACHE environment variable).\n",
      "  warnings.warn(msg, UserWarning)\n",
      "Traceback (most recent call last):\n",
      "  File \"/usr/local/bin/serpent\", line 9, in <module>\n",
      "    load_entry_point('ethereum-serpent==2.0.1', 'console_scripts', 'serpent')()\n",
      "  File \"/usr/local/lib/python2.7/dist-packages/ethereum_serpent-2.0.1-py2.7-linux-x86_64.egg/EGG-INFO/scripts/serpent.py\", line 224, in main\n",
      "    \n",
      "TypeError: <lambda>() takes exactly 1 argument (2 given)\n"
     ]
    }
   ],
   "source": [
    "!serpent get_prefix double iii"
   ]
  },
  {
   "cell_type": "markdown",
   "metadata": {},
   "source": [
    "## First run of the simulator"
   ]
  },
  {
   "cell_type": "code",
   "execution_count": 9,
   "metadata": {
    "collapsed": false
   },
   "outputs": [
    {
     "name": "stderr",
     "output_type": "stream",
     "text": [
      "/usr/lib/python2.7/dist-packages/pkg_resources.py:1031: UserWarning: /home/ubuntu/.python-eggs is writable by group/others and vulnerable to attack when used with get_resource_filename. Consider a more secure location (set with .set_extraction_path or the PYTHON_EGG_CACHE environment variable).\n",
      "  warnings.warn(msg, UserWarning)\n",
      "No handlers could be found for logger \"eth.pow\"\n"
     ]
    },
    {
     "data": {
      "text/plain": [
       "84"
      ]
     },
     "execution_count": 9,
     "metadata": {},
     "output_type": "execute_result"
    }
   ],
   "source": [
    "from ethereum import tester as t\n",
    "s = t.state()\n",
    "c = s.abi_contract('mul2.se')\n",
    "c.double(42)"
   ]
  },
  {
   "cell_type": "code",
   "execution_count": 10,
   "metadata": {
    "collapsed": false
   },
   "outputs": [
    {
     "data": {
      "text/plain": [
       "6"
      ]
     },
     "execution_count": 10,
     "metadata": {},
     "output_type": "execute_result"
    }
   ],
   "source": [
    "c.double(3)"
   ]
  },
  {
   "cell_type": "code",
   "execution_count": 49,
   "metadata": {
    "collapsed": false
   },
   "outputs": [
    {
     "name": "stdout",
     "output_type": "stream",
     "text": [
      "Overwriting namecoin.se\n"
     ]
    }
   ],
   "source": [
    "%%file namecoin.se\n",
    "\n",
    "# Note: \n",
    "# self.storage: 32-byte bits (key, value)\n",
    "# Python string will be automatically converted to this byte array\n",
    "\n",
    "def register(key, value):\n",
    "    # Key not yet claimed\n",
    "    if not self.storage[key]:\n",
    "        self.storage[key] = value\n",
    "        return(1)\n",
    "    else:\n",
    "        return(0)  # Key already claimed\n",
    "\n",
    "def ask(key):\n",
    "    return(self.storage[key])\n"
   ]
  },
  {
   "cell_type": "code",
   "execution_count": 54,
   "metadata": {
    "collapsed": true
   },
   "outputs": [],
   "source": [
    "s = t.state()\n",
    "c = s.abi_contract('namecoin.se')"
   ]
  },
  {
   "cell_type": "code",
   "execution_count": 55,
   "metadata": {
    "collapsed": false
   },
   "outputs": [
    {
     "data": {
      "text/plain": [
       "0"
      ]
     },
     "execution_count": 55,
     "metadata": {},
     "output_type": "execute_result"
    }
   ],
   "source": [
    "c.ask('k1')"
   ]
  },
  {
   "cell_type": "code",
   "execution_count": 93,
   "metadata": {
    "collapsed": true
   },
   "outputs": [],
   "source": [
    "# Following gets you error\n",
    "# c.register('k1', 'h' * 33)"
   ]
  },
  {
   "cell_type": "code",
   "execution_count": 56,
   "metadata": {
    "collapsed": false
   },
   "outputs": [
    {
     "data": {
      "text/plain": [
       "1"
      ]
     },
     "execution_count": 56,
     "metadata": {},
     "output_type": "execute_result"
    }
   ],
   "source": [
    "c.register('k1', 'hello')"
   ]
  },
  {
   "cell_type": "code",
   "execution_count": 57,
   "metadata": {
    "collapsed": false
   },
   "outputs": [
    {
     "data": {
      "text/plain": [
       "'68656c6c6f'"
      ]
     },
     "execution_count": 57,
     "metadata": {},
     "output_type": "execute_result"
    }
   ],
   "source": [
    "'hello'.encode('hex')"
   ]
  },
  {
   "cell_type": "code",
   "execution_count": 63,
   "metadata": {
    "collapsed": false
   },
   "outputs": [
    {
     "data": {
      "text/plain": [
       "'0x68656c6c6f'"
      ]
     },
     "execution_count": 63,
     "metadata": {},
     "output_type": "execute_result"
    }
   ],
   "source": [
    "hex(c.ask('k1'))"
   ]
  },
  {
   "cell_type": "code",
   "execution_count": 59,
   "metadata": {
    "collapsed": false
   },
   "outputs": [
    {
     "data": {
      "text/plain": [
       "1"
      ]
     },
     "execution_count": 59,
     "metadata": {},
     "output_type": "execute_result"
    }
   ],
   "source": [
    "c.register('k2', 1)"
   ]
  },
  {
   "cell_type": "code",
   "execution_count": 60,
   "metadata": {
    "collapsed": false
   },
   "outputs": [
    {
     "data": {
      "text/plain": [
       "1"
      ]
     },
     "execution_count": 60,
     "metadata": {},
     "output_type": "execute_result"
    }
   ],
   "source": [
    "c.ask('k2')"
   ]
  },
  {
   "cell_type": "code",
   "execution_count": 61,
   "metadata": {
    "collapsed": false
   },
   "outputs": [
    {
     "data": {
      "text/plain": [
       "99"
      ]
     },
     "execution_count": 61,
     "metadata": {},
     "output_type": "execute_result"
    }
   ],
   "source": [
    "c.register('k3', 99)\n",
    "c.ask('k3')"
   ]
  },
  {
   "cell_type": "markdown",
   "metadata": {},
   "source": [
    "## Extern codes"
   ]
  },
  {
   "cell_type": "code",
   "execution_count": 64,
   "metadata": {
    "collapsed": false
   },
   "outputs": [
    {
     "name": "stdout",
     "output_type": "stream",
     "text": [
      "Writing returnten.se\n"
     ]
    }
   ],
   "source": [
    "%%file returnten.se\n",
    "\n",
    "extern mul2.se: [double:i:i]\n",
    "\n",
    "MUL2 = create('mul2.se')\n",
    "def returnten():\n",
    "    return(MUL2.double(5))\n"
   ]
  },
  {
   "cell_type": "code",
   "execution_count": 88,
   "metadata": {
    "collapsed": false
   },
   "outputs": [
    {
     "data": {
      "text/plain": [
       "10"
      ]
     },
     "execution_count": 88,
     "metadata": {},
     "output_type": "execute_result"
    }
   ],
   "source": [
    "s = t.state()\n",
    "c = s.abi_contract('returnten.se')\n",
    "c.returnten()"
   ]
  },
  {
   "cell_type": "code",
   "execution_count": 65,
   "metadata": {
    "collapsed": false
   },
   "outputs": [
    {
     "name": "stdout",
     "output_type": "stream",
     "text": [
      "/usr/lib/python2.7/dist-packages/pkg_resources.py:1031: UserWarning: /home/ubuntu/.python-eggs is writable by group/others and vulnerable to attack when used with get_resource_filename. Consider a more secure location (set with .set_extraction_path or the PYTHON_EGG_CACHE environment variable).\n",
      "  warnings.warn(msg, UserWarning)\n",
      "extern main: [returnten:[]:int256]\n"
     ]
    }
   ],
   "source": [
    "!serpent mk_signature returnten.se"
   ]
  },
  {
   "cell_type": "code",
   "execution_count": 66,
   "metadata": {
    "collapsed": false
   },
   "outputs": [
    {
     "name": "stdout",
     "output_type": "stream",
     "text": [
      "/usr/lib/python2.7/dist-packages/pkg_resources.py:1031: UserWarning: /home/ubuntu/.python-eggs is writable by group/others and vulnerable to attack when used with get_resource_filename. Consider a more secure location (set with .set_extraction_path or the PYTHON_EGG_CACHE environment variable).\n",
      "  warnings.warn(msg, UserWarning)\n",
      "extern main: [double:[int256]:int256]\n"
     ]
    }
   ],
   "source": [
    "!serpent mk_signature mul2.se"
   ]
  },
  {
   "cell_type": "markdown",
   "metadata": {},
   "source": [
    "## More About signature"
   ]
  },
  {
   "cell_type": "code",
   "execution_count": 86,
   "metadata": {
    "collapsed": false
   },
   "outputs": [
    {
     "name": "stdout",
     "output_type": "stream",
     "text": [
      "Overwriting test_signature.se\n"
     ]
    }
   ],
   "source": [
    "%%file test_signature.se\n",
    "def test(x, y, z):\n",
    "    return x\n",
    "\n",
    "def test2(x, y):\n",
    "    return x\n",
    "\n",
    "def test3(x, y: float, z:str):\n",
    "    return x\n",
    "\n",
    "def test4(x, y: float, z:string):\n",
    "    return x\n",
    "\n",
    "def test5(x, y: float, z:sting):\n",
    "    return x"
   ]
  },
  {
   "cell_type": "code",
   "execution_count": 87,
   "metadata": {
    "collapsed": false
   },
   "outputs": [
    {
     "name": "stdout",
     "output_type": "stream",
     "text": [
      "/usr/lib/python2.7/dist-packages/pkg_resources.py:1031: UserWarning: /home/ubuntu/.python-eggs is writable by group/others and vulnerable to attack when used with get_resource_filename. Consider a more secure location (set with .set_extraction_path or the PYTHON_EGG_CACHE environment variable).\n",
      "  warnings.warn(msg, UserWarning)\n",
      "Warning (file \"main\", line 8, char 0): Non-standard argument type: float\n",
      "Warning (file \"main\", line 11, char 0): Non-standard argument type: float\n",
      "Warning (file \"main\", line 14, char 0): Non-standard argument type: float\n",
      "Warning (file \"main\", line 14, char 0): Non-standard argument type: sting\n",
      "extern main: [test:[int256,int256,int256]:int256, test2:[int256,int256]:int256, test3:[int256,float,bytes]:int256, test4:[int256,float,string]:int256, test5:[int256,float,sting]:int256]\n"
     ]
    }
   ],
   "source": [
    "!serpent mk_signature test_signature.se"
   ]
  },
  {
   "cell_type": "markdown",
   "metadata": {},
   "source": [
    "NOTES:\n",
    "\n",
    "* Variable type can be any name, e.g. `sting`\n",
    "* Pattern: `test:[int256,int256,int256]:int256`. \"function-name:[arg1-type, arg2-type, arg3-type]:ret-type\"\n",
    "* Python `str` is converted to `byte`"
   ]
  },
  {
   "cell_type": "markdown",
   "metadata": {},
   "source": [
    "## Better Storage\n",
    "\n",
    "We want to break the limit that storage value is 32-byte long.\n",
    "However, following codes do not make it better."
   ]
  },
  {
   "cell_type": "code",
   "execution_count": 135,
   "metadata": {
    "collapsed": false
   },
   "outputs": [
    {
     "name": "stdout",
     "output_type": "stream",
     "text": [
      "Overwriting betterstorage.se\n"
     ]
    }
   ],
   "source": [
    "%%file betterstorage.se\n",
    "\n",
    "data goodstorage[]\n",
    "\n",
    "# Note: \n",
    "# self.storage: 32-byte bits (key, value)\n",
    "# Python string will be automatically converted to this byte array\n",
    "\n",
    "def register(key, value:arr):\n",
    "    # Key not yet claimed\n",
    "    if not self.goodstorage[key]:\n",
    "        self.goodstorage[key] = value[1]\n",
    "        return(1)\n",
    "    else:\n",
    "        return(0)  # Key already claimed\n",
    "\n",
    "def ask(key):\n",
    "    return(self.goodstorage[key])\n"
   ]
  },
  {
   "cell_type": "code",
   "execution_count": 136,
   "metadata": {
    "collapsed": false
   },
   "outputs": [],
   "source": [
    "s = t.state()\n",
    "c = s.abi_contract('betterstorage.se')"
   ]
  },
  {
   "cell_type": "code",
   "execution_count": 137,
   "metadata": {
    "collapsed": false
   },
   "outputs": [
    {
     "data": {
      "text/plain": [
       "1"
      ]
     },
     "execution_count": 137,
     "metadata": {},
     "output_type": "execute_result"
    }
   ],
   "source": [
    "c.register(1, [1, 2, 3])"
   ]
  },
  {
   "cell_type": "code",
   "execution_count": 138,
   "metadata": {
    "collapsed": false
   },
   "outputs": [
    {
     "data": {
      "text/plain": [
       "2"
      ]
     },
     "execution_count": 138,
     "metadata": {},
     "output_type": "execute_result"
    }
   ],
   "source": [
    "c.ask(1)"
   ]
  },
  {
   "cell_type": "code",
   "execution_count": 133,
   "metadata": {
    "collapsed": false
   },
   "outputs": [
    {
     "data": {
      "text/plain": [
       "1"
      ]
     },
     "execution_count": 133,
     "metadata": {},
     "output_type": "execute_result"
    }
   ],
   "source": [
    "c.register(2, ['h'] * 32)"
   ]
  },
  {
   "cell_type": "markdown",
   "metadata": {},
   "source": [
    "## Long Strings"
   ]
  },
  {
   "cell_type": "code",
   "execution_count": 198,
   "metadata": {
    "collapsed": false
   },
   "outputs": [
    {
     "name": "stdout",
     "output_type": "stream",
     "text": [
      "Overwriting longstring.se\n"
     ]
    }
   ],
   "source": [
    "%%file longstring.se\n",
    "\n",
    "data shortstring\n",
    "data longstring\n",
    "\n",
    "# Note: \n",
    "# self.storage: 32-byte bits (key, value)\n",
    "# Python string will be automatically converted to this byte array\n",
    "\n",
    "def init():\n",
    "    self.shortstring = 'helloworld'\n",
    "    self.longstring = text(\"helloworld\")\n",
    "\n",
    "def register(value:text):\n",
    "    # Key not yet claimed\n",
    "    #self.mystring = value\n",
    "    pass\n",
    "\n",
    "def ask_short():\n",
    "    return(self.shortstring)\n",
    "\n",
    "def ask_long():\n",
    "    return(self.longstring, chars=100)"
   ]
  },
  {
   "cell_type": "code",
   "execution_count": 199,
   "metadata": {
    "collapsed": false
   },
   "outputs": [],
   "source": [
    "s = t.state()\n",
    "c = s.abi_contract('longstring.se')"
   ]
  },
  {
   "cell_type": "code",
   "execution_count": 200,
   "metadata": {
    "collapsed": false
   },
   "outputs": [
    {
     "data": {
      "text/plain": [
       "'0x68656c6c6f776f726c6400000000000000000000000000000000000000000000L'"
      ]
     },
     "execution_count": 200,
     "metadata": {},
     "output_type": "execute_result"
    }
   ],
   "source": [
    "hex(c.ask_short())"
   ]
  },
  {
   "cell_type": "code",
   "execution_count": 201,
   "metadata": {
    "collapsed": false
   },
   "outputs": [
    {
     "data": {
      "text/plain": [
       "'\\x00\\x00\\x00\\x00\\x00\\x00\\x00\\x00\\x00\\x00\\x00\\x00\\x00\\x00\\x00\\x00\\x00\\x00\\x00\\x00\\x00\\x00\\x00\\x00\\x00\\x00\\x00\\x00\\x00\\x00\\x00\\x00\\x00\\x00\\x00\\x00\\x00\\x00\\x00\\x00\\x00\\x00\\x00\\x00\\x00\\x00\\x00\\x00\\x00\\x00\\x00\\x00\\x00\\x00\\x00\\x00\\x00\\x00\\x00\\x00\\x00\\x00\\x00\\x00\\x00\\x00\\x00\\x00\\x00\\x00\\x00\\x00\\x00\\x00\\x00\\x00\\x00\\x00\\x00\\x00\\x00\\x00\\x00\\x00\\x00\\x00\\x00\\x00\\x00\\x00\\x00\\x00\\x00\\x00\\x00\\x00\\x00\\x00\\x00\\x00'"
      ]
     },
     "execution_count": 201,
     "metadata": {},
     "output_type": "execute_result"
    }
   ],
   "source": [
    "c.ask_long()"
   ]
  },
  {
   "cell_type": "code",
   "execution_count": null,
   "metadata": {
    "collapsed": true
   },
   "outputs": [],
   "source": []
  }
 ],
 "metadata": {
  "kernelspec": {
   "display_name": "Python 2",
   "language": "python",
   "name": "python2"
  },
  "language_info": {
   "codemirror_mode": {
    "name": "ipython",
    "version": 2
   },
   "file_extension": ".py",
   "mimetype": "text/x-python",
   "name": "python",
   "nbconvert_exporter": "python",
   "pygments_lexer": "ipython2",
   "version": "2.7.6"
  }
 },
 "nbformat": 4,
 "nbformat_minor": 0
}
